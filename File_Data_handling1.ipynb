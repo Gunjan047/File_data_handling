{
  "nbformat": 4,
  "nbformat_minor": 0,
  "metadata": {
    "colab": {
      "provenance": []
    },
    "kernelspec": {
      "name": "python3",
      "display_name": "Python 3"
    },
    "language_info": {
      "name": "python"
    }
  },
  "cells": [
    {
      "cell_type": "markdown",
      "source": [
        "#**Files, exceptional handling, logging and memory management Questions**\n",
        "\n"
      ],
      "metadata": {
        "id": "s9pZfLjwVuiA"
      }
    },
    {
      "cell_type": "markdown",
      "source": [
        "**1-> What is the difference between interpreted and compiled languages?**\n",
        "\n",
        " - The main difference between compiled and interpreted languages lies in how the source code is executed. Compiled languages translate the entire code into machine code (or another low-level representation) at once, before runtime. Interpreted languages execute the code line by line, often with the help of an interpreter program.\n",
        "\n",
        "**Compiled Languages:**\n",
        "\n",
        " - **Translation:**\n",
        "\n",
        "Code is translated into machine code (or another low-level form) by a compiler before execution.\n",
        "\n",
        " - **Execution:**\n",
        "\n",
        "The compiled code can then be executed directly by the computer's processor.\n",
        " - Examples:\n",
        "C, C++, Go, Rust, and Fortran.\n",
        "\n",
        " - **Advantages:**\n",
        "\n",
        "Generally faster execution speeds due to the one-time translation and optimization.\n",
        "\n",
        " - **Disadvantages:**\n",
        "\n",
        "Compilation can be slow for large projects, and the resulting executable is often platform-specific.\n",
        "\n",
        "**Interpreted Languages:**\n",
        "\n",
        " - **Translation:**\n",
        "\n",
        "  Code is translated and executed line by line by an interpreter during runtime.\n",
        "\n",
        " - **Execution:**\n",
        "\n",
        "  The interpreter reads and executes each line of code, often requiring an interpreter program to be present during execution.\n",
        " - Examples: Python, JavaScript, Ruby, PHP, and Perl.\n",
        "\n",
        " - **Advantages:**\n",
        "\n",
        "  More flexible, easier to debug and test, and often platform-independent.\n",
        "\n",
        " - **Disadvantages:**\n",
        "\n",
        "  Slower execution speeds compared to compiled languages, as the interpreter needs to parse and execute each line during runtime.\n"
      ],
      "metadata": {
        "id": "NxpmYGwIWE4u"
      }
    },
    {
      "cell_type": "markdown",
      "source": [
        "**2-> What is exception handling in Python?**\n",
        "\n",
        " - Exception handling in Python is a mechanism used to gracefully manage runtime errors or unexpected events that disrupt the normal flow of a program. These errors, known as \"exceptions,\" can cause a program to terminate abruptly if not handled properly.\n",
        "\n",
        " The core idea of exception handling is to anticipate potential errors and provide a structured way to respond to them, preventing program crashes and allowing for more robust and user-friendly applications.\n",
        "\n",
        "\n"
      ],
      "metadata": {
        "id": "tZlUk9KeXtpn"
      }
    },
    {
      "cell_type": "code",
      "source": [
        "#example-\n",
        "try:\n",
        "    num1 = int(input(\"Enter a number: \"))\n",
        "    result = 10 / num1\n",
        "    print(f\"Result: {result}\")\n",
        "except ZeroDivisionError:\n",
        "    print(\"Error: Cannot divide by zero!\")\n",
        "except ValueError:\n",
        "    print(\"Error: Invalid input. Please enter a number.\")\n",
        "else:\n",
        "    print(\"Division successful.\")\n",
        "finally:\n",
        "    print(\"Execution complete.\")\n"
      ],
      "metadata": {
        "colab": {
          "base_uri": "https://localhost:8080/"
        },
        "id": "rTWIkCmOYnFx",
        "outputId": "2c079291-30a8-4b75-8c2b-b2a3c0856690"
      },
      "execution_count": null,
      "outputs": [
        {
          "output_type": "stream",
          "name": "stdout",
          "text": [
            "Enter a number: 5\n",
            "Result: 2.0\n",
            "Division successful.\n",
            "Execution complete.\n"
          ]
        }
      ]
    },
    {
      "cell_type": "markdown",
      "source": [
        "**3-> What is the purpose of the finally block in exception handling ?**\n",
        "\n",
        " - The finally block in exception handling serves the purpose of ensuring that a specific block of code is executed, regardless of whether an exception occurs within the try block or is caught by a catch block.\n",
        "\n",
        "- Its primary uses include:\n",
        "\n",
        "  - **Resource Management:**\n",
        "\n",
        "  The finally block is crucial for releasing resources that have been acquired, such as closing file streams, database connections, or network sockets. This prevents resource leaks, which can lead to system instability or performance issues.\n",
        "\n",
        "  - **Guaranteed Execution:**\n",
        "\n",
        "  Code within the finally block is guaranteed to run, even if an unhandled exception occurs, or if return, break, or continue statements are encountered within the try or catch blocks.\n",
        "\n",
        "  - **Cleanup Operations:**\n",
        "\n",
        "  It provides a reliable mechanism for performing essential cleanup tasks, ensuring that the program state is left in a consistent and predictable condition after the execution of the try or catch blocks."
      ],
      "metadata": {
        "id": "JxhJaLngY7sj"
      }
    },
    {
      "cell_type": "markdown",
      "source": [
        "**4-> What is logging in Python ?**\n",
        "\n",
        " - Logging in Python is the process of tracking events that happen during the execution of a program. It allows you to record messages for debugging, monitoring, and error tracking — without using print statements.\n",
        "\n",
        " Python provides a built-in module called logging for this purpose.\n",
        "\n"
      ],
      "metadata": {
        "id": "ykCpDQBuZ3FO"
      }
    },
    {
      "cell_type": "markdown",
      "source": [
        "**5-> What is the significance of the __ del__ method in Python?**\n",
        "\n",
        " - The __ del__ method is a special method in Python that is called when an object is about to be destroyed. It allows you to define specific cleanup actions that should be taken when an object is garbage collected. This method can be particularly useful for releasing external resources such as file handles, network connections, or database connections that the object may hold.\n",
        "\n",
        "- **Purpose:**\n",
        "\n",
        " The __ del__ method is used to define the actions that should be performed before an object is destroyed. This can include releasing external resources such as files or database connections associated with the object\n",
        "\n",
        "- **Usage:**\n",
        "\n",
        " When Python's garbage collector identifies that an object is no longer referenced by any part of the program, it schedules the __ del__ method of that object to be called before reclaiming its memory.\n",
        "\n",
        "- **Syntax:**\n",
        "\n",
        " The __ del__ method is defined using the following syntax.\n",
        "\n",
        "      #class ClassName:\n",
        "         def __ del__(self):\n",
        "       # cleanup code here\n",
        "         pass"
      ],
      "metadata": {
        "id": "FXtFAXvfaX28"
      }
    },
    {
      "cell_type": "markdown",
      "source": [
        "**6-> What is the difference between import and from ... import in Python?**\n",
        "\n",
        " - In Python, both import and from ... import statements are used to bring modules or specific components of modules into the current namespace, but they differ in how they achieve this and the implications for code readability and potential naming conflicts.\n",
        "\n",
        "- **Import module_name**\n",
        "\n",
        " This statement imports the entire module into the current namespace.\n",
        " To access any function, class, or variable within the imported module, you must prefix it with the module name and a dot (.).\n",
        "\n",
        "**Example:**\n",
        "\n",
        "\n",
        "    import math\n",
        "    print(math.pi)\n",
        "    print(math.sqrt(16))\n",
        "\n",
        "- **Advantage:**\n",
        "\n",
        " Clearly indicates the origin of the imported objects, preventing naming conflicts if other modules or local variables share the same names.\n",
        "\n",
        "\n",
        "- **Disadvantage:**\n",
        " Requires more typing if you frequently use many elements from the module.\n",
        "\n",
        "\n",
        "**From module_name import object_name(s)**\n",
        "\n",
        "  This statement imports only specific objects (functions, classes, or variables) from the module directly into the current namespace.\n",
        "\n",
        "  You can then use these imported objects without prefixing them with the module name.\n",
        " You can import multiple objects by separating them with commas.\n",
        "- **Example:**\n",
        "\n",
        "\n",
        "    from math import pi, sqrt\n",
        "    print(pi)\n",
        "    print(sqrt(25))\n",
        "\n",
        "\n",
        "- **Advantage:**\n",
        "\n",
        " Reduces typing and makes the code more concise when using a few specific elements from a module.\n",
        "\n",
        "\n",
        "- **Disadvantage:**\n",
        "\n",
        " Can lead to naming conflicts if the imported objects have the same names as other objects in your current namespace or from other from ... import statements."
      ],
      "metadata": {
        "id": "rU7JYdkIbUIU"
      }
    },
    {
      "cell_type": "markdown",
      "source": [
        "**7-> How can you handle multiple exceptions in Python?**\n",
        "\n",
        " - In Python, multiple exceptions can be handled within a try-except block in two primary ways:\n",
        "\n",
        "**Handling multiple exceptions with a single except block:**\n",
        "\n",
        "  This method is used when the same handling logic applies to different types of exceptions. The exception types are provided as a tuple to the except keyword.\n",
        "\n",
        "  In this example, if either a ValueError or ZeroDivisionError occurs, the code within the single except block will be executed."
      ],
      "metadata": {
        "id": "j8oNWZbFX6xA"
      }
    },
    {
      "cell_type": "code",
      "source": [
        "    try:\n",
        "        # Code that might raise exceptions\n",
        "        value = int(\"abc\")  # Raises ValueError\n",
        "        result = 10 / 0     # Raises ZeroDivisionError\n",
        "    except (ValueError, ZeroDivisionError) as e:\n",
        "        print(f\"An error occurred: {e}\")"
      ],
      "metadata": {
        "colab": {
          "base_uri": "https://localhost:8080/"
        },
        "id": "3zrlafAPocwa",
        "outputId": "3449625c-d27d-402d-ccef-621cf06fd46d"
      },
      "execution_count": null,
      "outputs": [
        {
          "output_type": "stream",
          "name": "stdout",
          "text": [
            "An error occurred: invalid literal for int() with base 10: 'abc'\n"
          ]
        }
      ]
    },
    {
      "cell_type": "markdown",
      "source": [
        "**Handling multiple exceptions with multiple except blocks:**\n",
        "\n",
        "This approach is suitable when different exception types require distinct handling logic. Each except block handles a specific exception or a group of exceptions.\n",
        "\n",
        "Here, FileNotFoundError and PermissionError are handled separately, allowing for tailored responses to each specific error. A general Exception can also be included to catch any other unhandled exceptions, though this should be used cautiously to avoid masking bugs."
      ],
      "metadata": {
        "id": "kcRINMnRop7B"
      }
    },
    {
      "cell_type": "code",
      "source": [
        "    try:\n",
        "        # Code that might raise exceptions\n",
        "        file = open(\"nonexistent.txt\", \"r\") # Raises FileNotFoundError\n",
        "        data = file.read()\n",
        "    except FileNotFoundError:\n",
        "        print(\"Error: The specified file was not found.\")\n",
        "    except PermissionError:\n",
        "        print(\"Error: You do not have permission to access this file.\")\n",
        "    except Exception as e: # Catch-all for other unexpected exceptions\n",
        "        print(f\"An unexpected error occurred: {e}\")\n",
        "    finally:\n",
        "        if 'file' in locals() and not file.closed:\n",
        "            file.close()"
      ],
      "metadata": {
        "colab": {
          "base_uri": "https://localhost:8080/"
        },
        "id": "YyYc6tEWo36L",
        "outputId": "6afee3a9-c04d-46e6-b6af-77c12406c873"
      },
      "execution_count": null,
      "outputs": [
        {
          "output_type": "stream",
          "name": "stdout",
          "text": [
            "Error: The specified file was not found.\n"
          ]
        }
      ]
    },
    {
      "cell_type": "markdown",
      "source": [
        "**8-> What is the purpose of the with statement when handling files in Python ?**\n",
        "\n",
        " - The with statement in Python, when used with file handling, serves the primary purpose of ensuring that files are properly closed after their use, even if errors occur during the file operations. This is achieved through the use of context managers.\n",
        "\n",
        "\n",
        "- **Purpose:**\n",
        "\n",
        "  - **Automatic Resource Management:**\n",
        "\n",
        "     The with statement automatically handles the setup and teardown of resources. In the context of file handling, this means the file is automatically opened when entering the with block and automatically closed when exiting the block, regardless of whether the block completes successfully or an exception is raised.\n",
        "\n",
        "  - **Guaranteed File Closure:**\n",
        "\n",
        "     Without with, you would typically need a try...finally block to ensure the file is closed in all circumstances. The with statement simplifies this by guaranteeing that the file's close() method is called once the with block is exited, preventing resource leaks and potential file corruption.\n",
        "\n",
        "  - **Cleaner and More Readable Code:**\n",
        "\n",
        "     It eliminates the need for explicit file.close() calls, leading to more concise and readable code. This reduces boilerplate and improves maintainability.\n",
        "\n",
        "  - **Prevention of Resource Leaks:**\n",
        "\n",
        "     By ensuring timely closure, the with statement helps prevent resource leaks, which can occur if files remain open indefinitely, consuming system resources."
      ],
      "metadata": {
        "id": "EkE2coM6o82h"
      }
    },
    {
      "cell_type": "code",
      "source": [
        "#Example\n",
        "\n",
        "# Without 'with' (less robust)\n",
        "file = open(\"my_file.txt\", \"w\")\n",
        "try:\n",
        "    file.write(\"Hello, World!\")\n",
        "finally:\n",
        "    file.close()\n",
        "\n",
        "# With 'with' (preferred and more robust)\n",
        "with open(\"my_file.txt\", \"w\") as file:\n",
        "    file.write(\"Hello, World!\")\n",
        "# The file is automatically closed here, even if an error occurred within the 'with' block."
      ],
      "metadata": {
        "id": "lrDoWpR9p9N3"
      },
      "execution_count": null,
      "outputs": []
    },
    {
      "cell_type": "markdown",
      "source": [
        "**9-> What is the difference between multithreading and multiprocessing?**\n",
        "\n",
        " - The difference between multithreading and multiprocessing in Python (and in general) lies in how they achieve concurrent execution and how they handle system resources like CPU cores and memory.\n",
        "\n",
        "**Multithreading**\n",
        "\n",
        "  - **Definition:**\n",
        "\n",
        "      Running multiple threads (lightweight processes) within a single process.\n",
        "\n",
        "  - **Use Case:**\n",
        "  \n",
        "     Best for I/O-bound tasks (like file operations, network requests, or waiting for user input).\n",
        "\n",
        "  - **Concurrency Type:**\n",
        "  \n",
        "     Concurrent execution, not true parallelism in CPython due to the GIL (Global Interpreter Lock).\n",
        "\n",
        "  - **Resource Usage:**\n",
        "  \n",
        "      Shares memory space; threads run in the same process.\n",
        "\n",
        "  - **Overhead:**\n",
        "  \n",
        "       Lower overhead (lighter than processes).\n",
        "\n",
        "\n",
        "**Multiprocessing**\n",
        "\n",
        "\n",
        "  - **Definition:**\n",
        "  \n",
        "      Running multiple independent processes, each with its own Python interpreter and memory space.\n",
        "\n",
        "  - **Use Case:**\n",
        "  \n",
        "     Best for CPU-bound tasks (like number crunching or image processing).\n",
        "\n",
        "  - **Concurrency Type:**\n",
        "  \n",
        "     True parallelism (uses multiple CPU cores).\n",
        "\n",
        "  - **Resource Usage:**\n",
        "  \n",
        "     Separate memory space; higher memory use.\n",
        "\n",
        "  - **Overhead:**\n",
        "  \n",
        "     Higher overhead due to process creation and inter-process communication (IPC)."
      ],
      "metadata": {
        "id": "XENFGgK1qCeq"
      }
    },
    {
      "cell_type": "markdown",
      "source": [
        "10->What are the advantages of using logging in a program?\n",
        "\n",
        " - Using logging in a program has several key advantages over using simple print statements. Logging helps in monitoring, debugging, and maintaining software more effectively. Here are the main benefits.\n",
        "\n",
        "- **Debugging and Troubleshooting**\n",
        "\n",
        "   - Logs provide detailed insights into the program's execution flow.\n",
        "\n",
        "   - You can trace errors, exceptions, and unexpected behavior more efficiently.\n",
        "\n",
        "- **Control Over Log Levels**\n",
        "\n",
        "   - Logging modules (like Python’s logging) support different levels:\n",
        "\n",
        "   - DEBUG, INFO, WARNING, ERROR, CRITICAL\n",
        "\n",
        "   This lets you filter what kind of messages you want to see or store.\n",
        "\n",
        "- **Persistent Log Storage**\n",
        "\n",
        "  - Logs can be saved to files for future analysis, which is useful for long-running applications or post-mortem debugging.\n",
        "\n",
        "- **Better Than Print Statements**\n",
        "\n",
        "  - Print statements are temporary and hard to manage in large applications.\n",
        "\n",
        "  - Logging provides more structure and flexibility.\n",
        "\n",
        "- **Configurability**\n",
        "\n",
        "You can customize:\n",
        "\n",
        "   - Format of logs (timestamp, log level, message)\n",
        "\n",
        "   - Destination (file, console, remote server)\n",
        "\n",
        "   - Rotation (old logs archived automatically)\n",
        "\n",
        "- **Support for Multi-user and Production Environments**\n",
        "\n",
        "In production, logs help:\n",
        "  \n",
        "  - System admins detect issues\n",
        "\n",
        "  - Developers track bugs\n",
        "\n",
        "  - Security teams audit activity\n",
        "\n",
        "- **Non-Intrusive**\n",
        "\n",
        " - Logging can be turned on or off without changing code logic.\n",
        "\n",
        " - You can increase or decrease verbosity easily."
      ],
      "metadata": {
        "id": "zD-KC9TcsGGn"
      }
    },
    {
      "cell_type": "markdown",
      "source": [
        "**11-> What is memory management in Python?**\n",
        "\n",
        "- Memory management in Python refers to the process of allocating, tracking, and releasing memory used by variables, objects, and data structures during program execution.\n",
        "\n",
        " Python handles memory management automatically, but understanding its key components can help write more efficient code."
      ],
      "metadata": {
        "id": "sOxCUsDSZku5"
      }
    },
    {
      "cell_type": "markdown",
      "source": [
        "**12-> What are the basic steps involved in exception handling in Python?**\n",
        "\n",
        "- Python achieves this primarily through the use of try, except, else, and finally blocks:\n",
        "\n",
        "  - **try block:**\n",
        "\n",
        " This block contains the code that might raise an exception.\n",
        "\n",
        "  - **except block:**\n",
        "\n",
        " If an exception occurs within the try block, the corresponding except block is executed. You can specify different except blocks to handle specific types of exceptions (e.g., ZeroDivisionError, FileNotFoundError).\n",
        "\n",
        "  - **else block:**\n",
        "\n",
        " This optional block is executed if the code inside the try block runs without raising any exceptions.\n",
        "\n",
        "  - **finally block:**\n",
        "\n",
        " This optional block is always executed, regardless of whether an exception occurred or not. It is typically used for cleanup operations, such as closing files or releasing resources.\n"
      ],
      "metadata": {
        "id": "GnT7ZXPmaGE7"
      }
    },
    {
      "cell_type": "markdown",
      "source": [
        "**13-> Why is memory management important in Python?**\n",
        "\n",
        "- Memory management is important in Python because it directly affects the performance, stability, and scalability of your programs. Even though Python handles memory automatically, understanding its importance helps you write efficient and bug-free code.\n",
        "\n",
        "**Memory Management Matters in Python:**\n",
        "\n",
        "  - **Prevents Memory Leaks**\n",
        "\n",
        "   - If objects aren't properly released (e.g., due to circular references or uncollected garbage), your program may consume more memory over time.\n",
        "\n",
        "   -  slowing down or crashing.\n",
        "\n",
        "   - Good memory management ensures unused memory is reclaimed promptly.\n",
        "\n",
        "**Improves Performance**\n",
        "\n",
        "  - Efficient use of memory reduces the time Python spends allocating and deallocating memory.\n",
        "\n",
        "  - Programs run faster and with lower overhead.\n",
        "\n",
        "**Supports Scalability**\n",
        "\n",
        "  - Proper memory usage allows your application to handle large data or many users without running out of memory.\n",
        "\n",
        "  Especially important in web apps, data science, and machine learning.\n",
        "\n",
        "**Prevents Crashes**\n",
        "\n",
        "   - Poor memory handling can cause programs to run out of memory, leading to exceptions or system-level crashes.\n",
        "\n",
        "**Encourages Better Programming Practices**\n",
        "\n",
        "  - Understanding how Python manages memory helps you avoid common mistakes like:\n",
        "\n",
        "  - Holding unnecessary references.\n",
        "\n",
        "  - Creating large lists or dictionaries that never get cleaned up.\n",
        "\n",
        "  - Using global variables excessively.\n",
        "\n",
        "**Enables Debugging and Optimization**\n",
        "\n",
        "  - Knowing how memory is allocated and freed helps in:\n",
        "\n",
        "  - Identifying memory bottlenecks.\n",
        "\n",
        "  - Profiling memory usage.\n",
        "\n",
        "  - Optimizing resource-intensive code.\n",
        "\n",
        "**Real-World Example**\n",
        "\n",
        "  - In a long-running Python web server or data processing pipeline:\n",
        "\n",
        "  - If memory isn’t managed properly, small leaks can accumulate.\n",
        "\n",
        "  - Over hours or days, this can exhaust system memory, causing the system to slow down or crash.\n",
        "\n"
      ],
      "metadata": {
        "id": "NzHlJGsGa0zo"
      }
    },
    {
      "cell_type": "markdown",
      "source": [
        "**14-> What is the role of try and except in exception handling?**\n",
        "\n",
        "- The try and except blocks play a crucial role in exception handling, particularly in languages like Python. They provide a structured mechanism to gracefully manage errors that occur during program execution, preventing abrupt crashes and improving code robustness.\n",
        "\n",
        "**Role of try:**\n",
        "\n",
        "  - The try block encloses the code segment that is anticipated to potentially raise an exception. This \"suspicious\" code is executed within the try block.\n",
        "\n",
        "  - If no exception occurs during the execution of the code within the try block, the program proceeds normally, and the except block is entirely skipped.\n",
        "\n",
        "**Role of except:**\n",
        "\n",
        "  - The except block is designed to \"catch\" and handle specific exceptions that might be raised within its corresponding try block.\n",
        "\n",
        "  - If an exception does occur within the try block, the execution flow immediately jumps to the relevant except block.\n",
        "\n",
        "  - The code within the except block then executes, providing a mechanism to respond to the error, such as logging the error, displaying a user-friendly message, or attempting to recover from the error.\n",
        "\n",
        "- Multiple except blocks can be used to handle different types of exceptions specifically. A general except block can also be used to catch any unhandled exceptions."
      ],
      "metadata": {
        "id": "t8qiJZRggkqe"
      }
    },
    {
      "cell_type": "markdown",
      "source": [
        "**15->  How does Python's garbage collection system work?**\n",
        "\n",
        "- Python's garbage collection system employs a hybrid approach combining reference counting and a generational garbage collector to manage memory automatically.\n",
        "\n",
        "**Key Components of Python's Garbage Collection System:**\n",
        "\n",
        "  - **Reference Counting**\n",
        "\n",
        "     - Primary mechanism for memory management in Python.\n",
        "\n",
        "     - Every object in Python has a reference count, which is the number of references pointing to it.\n",
        "\n",
        "     - When an object’s reference count drops to zero, it is immediately deallocated.\n",
        "\n",
        "\n",
        "    import sys\n",
        "\n",
        "    a = []\n",
        "\n",
        "    print(sys.getrefcount(a))  # Shows how many references point to 'a'\n",
        "\n",
        "  - **Garbage Collector for Cyclic References**\n",
        "\n",
        "     - Reference counting can’t handle cyclic references (e.g., A references B and B references A).\n",
        "\n",
        "    - Python includes a cyclic garbage collector (in the gc module) to detect and clean up these cycles.\n",
        "\n",
        "   - It periodically scans object graphs for unreachable cycles and frees them.\n",
        "\n",
        "- **Generational Collection**\n",
        "\n",
        " Python's GC uses a three-generation model:\n",
        "\n",
        "  - Generation 0: Newly created objects\n",
        "\n",
        "  - Generation 1: Objects that survived one collection\n",
        "\n",
        "  - Generation 2: Long-lived objects\n",
        "\n",
        "**GC assumes:**\n",
        "\n",
        "  Most objects die young.\n",
        "\n",
        "  So, it collects Gen 0 frequently, Gen 1 less often, and Gen 2 rarely.\n",
        "\n",
        "**Manual Garbage Collection Control**\n",
        "\n",
        "You can interact with the garbage collector using the gc module:\n",
        "\n",
        "\n",
        "\n"
      ],
      "metadata": {
        "id": "QyyYss4KhtSq"
      }
    },
    {
      "cell_type": "code",
      "source": [
        "import gc\n",
        "gc.collect()               # Force a garbage collection\n",
        "gc.get_count()             # Return the number of objects in each generation\n",
        "gc.disable()               # Turn off automatic garbage collection\n",
        "gc.enable()                # Turn it back on"
      ],
      "metadata": {
        "id": "BEFEgqzqpy6b"
      },
      "execution_count": null,
      "outputs": []
    },
    {
      "cell_type": "markdown",
      "source": [
        "**16-> What is the purpose of the else block in exception handling?**\n",
        "\n",
        "- The ** else** block in Python's exception handling is used to define code that should run only if no exception occurs in the try block.\n",
        "\n",
        "**Purpose of the else Block:**\n",
        "\n",
        " - It helps separate the code that might raise exceptions (in the try block) from the code that should only execute if everything goes well.\n",
        "\n",
        " - Improves readability and organization of your exception-handling logic."
      ],
      "metadata": {
        "id": "WEHmB0vBqOmc"
      }
    },
    {
      "cell_type": "code",
      "source": [
        "#SYNTAX\n",
        "\n",
        "try:\n",
        "    # Code that might raise an exception\n",
        "except SomeException:\n",
        "    # Code that runs if exception occurs\n",
        "else:\n",
        "    # Code that runs if no exception occurs\n"
      ],
      "metadata": {
        "id": "JCYKz7air2sW"
      },
      "execution_count": null,
      "outputs": []
    },
    {
      "cell_type": "markdown",
      "source": [
        "**17-> What are the common logging levels in Python?**\n",
        "\n",
        "- In Python, the logging module provides a flexible framework for emitting log messages from your programs.\n",
        "\n",
        " It supports five standard logging levels, which indicate the severity of events.\n",
        "\n",
        "**DEBUG:**\n",
        "\n",
        "Provides detailed information, useful for diagnosing problems during development.\n",
        "\n",
        "**INFO:**\n",
        "\n",
        "Confirms that things are working as expected.\n",
        "\n",
        "**WARNING:**\n",
        "\n",
        "Indicates that something unexpected happened or might happen soon, but the software is still working.\n",
        "\n",
        "**ERROR:**\n",
        "\n",
        "Signifies a more serious problem that has prevented some function from executing.\n",
        "\n",
        "**CRITICAL:**\n",
        "\n",
        "Represents a severe error, indicating that the program itself may be unable to continue running.\n",
        "\n"
      ],
      "metadata": {
        "id": "mrsYYrXBsO1c"
      }
    },
    {
      "cell_type": "code",
      "source": [
        "#Example-\n",
        "import logging\n",
        "\n",
        "logging.basicConfig(level=logging.DEBUG)  # Set minimum logging level\n",
        "logging.debug(\"This is a debug message.\")\n",
        "logging.info(\"This is an info message.\")\n",
        "logging.warning(\"This is a warning.\")\n",
        "logging.error(\"This is an error.\")\n",
        "logging.critical(\"This is critical.\")\n"
      ],
      "metadata": {
        "colab": {
          "base_uri": "https://localhost:8080/"
        },
        "id": "M8L1t1_AzPhW",
        "outputId": "61b95f41-5d72-4a6d-f140-1a39290e7113"
      },
      "execution_count": null,
      "outputs": [
        {
          "output_type": "stream",
          "name": "stderr",
          "text": [
            "WARNING:root:This is a warning.\n",
            "ERROR:root:This is an error.\n",
            "CRITICAL:root:This is critical.\n"
          ]
        }
      ]
    },
    {
      "cell_type": "markdown",
      "source": [
        "**18-> What is the difference between os.fork() and multiprocessing in Python?**\n",
        "\n",
        "- The main difference between os.fork() and the multiprocessing module in Python lies in abstraction level, portability, and ease of use.\n",
        "\n",
        "**os.fork():**\n",
        "\n",
        "  - **Low-Level System Call:**\n",
        "\n",
        "   os.fork() is a direct wrapper around the Unix fork() system call. It creates a new process (child process) that is an almost identical copy of the calling process (parent process).\n",
        "\n",
        "  - **Copy-on-Write (CoW):**\n",
        "\n",
        "  When fork() is called, the child process initially shares the parent's memory pages using a Copy-on-Write mechanism. This means that physical memory is only duplicated when one of the processes modifies a shared page.\n",
        "\n",
        "  - **Limited Portability:**\n",
        "\n",
        "  os.fork() is only available on POSIX-compliant operating systems (e.g., Linux, macOS). It is not available on Windows.\n",
        "\n",
        "  - **Manual Resource Management:**\n",
        "\n",
        "  When using os.fork(), developers are responsible for managing inter-process communication (IPC) and synchronization between parent and child processes.\n",
        "\n",
        "\n",
        "**Multiprocessing Module:**\n",
        "\n",
        "  - **Higher-Level Abstraction:**\n",
        "\n",
        "  The multiprocessing module provides a more abstract and convenient way to work with processes in Python. It offers classes like Process, Pool, and Queue to simplify process creation, management, and IPC.\n",
        "\n",
        "  - **Multiple Start Methods:**\n",
        "\n",
        "  The multiprocessing module supports different ways to start new processes, including:\n",
        "\n",
        "   - fork (default on Unix-like systems): Similar to os.fork(), it duplicates the parent process.\n",
        "\n",
        "   - spawn (default on Windows and macOS): Starts a fresh Python interpreter process, requiring explicit passing of resources.\n",
        "\n",
        "   - forkserver: Creates a server process that handles the actual forking, which can be useful for managing resources more efficiently.\n",
        "\n",
        "  - **Cross-Platform Compatibility:**\n",
        "\n",
        "  The multiprocessing module is designed to be cross-platform, handling the underlying system differences for process creation.\n",
        "\n",
        "  - **Built-in IPC and Synchronization:**\n",
        "\n",
        "  It provides tools like Queue, Pipe, Lock, and Event for easier communication and synchronization between processes."
      ],
      "metadata": {
        "id": "XAhejFcGztOC"
      }
    },
    {
      "cell_type": "markdown",
      "source": [
        "**19-> What is the importance of closing a file in Python??**\n",
        "\n",
        "- Closing a file in Python is important for resource management, data integrity, and system performance.\n",
        "\n",
        "- **Releases System Resources**\n",
        "\n",
        "     - When a file is opened, it uses system resources like file descriptors. If you don’t close the file:\n",
        "\n",
        "     - These resources remain occupied.\n",
        "\n",
        "     - It may lead to a \"Too many open files\" error in large applications.\n",
        "\n",
        "- **Ensures Data Is Written (Especially for Writing Modes)**\n",
        "\n",
        "    - When writing to a file, Python uses a buffer to temporarily hold data.\n",
        "\n",
        "    - If you don’t close the file, some data may remain in the buffer and never get written to disk.\n",
        "\n",
        "  - Closing the file flushes the buffer and ensures all data is saved.\n",
        "\n",
        "- **Prevents Data Corruption**\n",
        "\n",
        "  Keeping files open can risk:\n",
        "\n",
        "   - Data corruption, especially if multiple processes try to access or modify the file.\n",
        "\n",
        "  - Files being locked or left in an inconsistent state.\n",
        "\n",
        "- **Signals End of File Operation**\n",
        "\n",
        "  Closing the file indicates you're done working with it, allowing other programs or users to access or modify the file safely.\n",
        "\n"
      ],
      "metadata": {
        "id": "HcvbLm4V_O8r"
      }
    },
    {
      "cell_type": "markdown",
      "source": [
        "**20-> What is the difference between file.read() and file.readline() in Python ?**\n",
        "\n",
        "- In Python, both file.read() and file.readline() are used to read data from a file, but they behave differently:\n",
        "\n",
        "**file.read()**\n",
        "\n",
        "  - Reads the entire file (or a specified number of characters).\n",
        "\n",
        "  - Returns everything as a single string.\n",
        "\n",
        "  - Can take an optional argument to read a specific number of characters: file.read(size).\n",
        "\n",
        "\n",
        "   \n",
        "\n",
        " Use when you want to read the full file content at once.\n",
        "\n",
        "**file.readline()**\n",
        "\n",
        "  - Reads only one line from the file at a time.\n",
        "\n",
        "  - Returns the line as a string, including the newline character \\n (unless it's the last line).\n",
        "\n",
        "  - Repeated calls read the next line each time.   \n",
        "\n",
        "\n",
        "    \n",
        "  Use when reading large files or when you need to process the file line by line.  "
      ],
      "metadata": {
        "id": "B9LKDQT_rwsj"
      }
    },
    {
      "cell_type": "markdown",
      "source": [
        "**21->What is the logging module in Python used for?**\n",
        "\n",
        "- The logging module in Python is used for recording messages from a program — for debugging, monitoring, or auditing purposes. It's a flexible system that lets you track events while your code runs, without using print statements.\n",
        "\n",
        "**Key Purposes of logging:**\n",
        "\n",
        "  - Debugging: Track what your code is doing and when.\n",
        "\n",
        "  - Error tracking: Log errors and exceptions for later analysis.\n",
        "\n",
        "  - Monitoring: Understand application flow or performance over time.\n",
        "\n",
        "  - Audit trails: Keep records of critical operations (e.g., logins, transactions)."
      ],
      "metadata": {
        "id": "RqAR7SvsyDFP"
      }
    },
    {
      "cell_type": "code",
      "source": [
        "import logging\n",
        "\n",
        "logging.basicConfig(level=logging.INFO)\n",
        "\n",
        "logging.debug(\"This is a debug message\")\n",
        "logging.info(\"This is an info message\")\n",
        "logging.warning(\"This is a warning\")\n",
        "logging.error(\"This is an error\")\n",
        "logging.critical(\"This is critical\")\n"
      ],
      "metadata": {
        "colab": {
          "base_uri": "https://localhost:8080/"
        },
        "id": "SPkCN-hIzmDh",
        "outputId": "3955a07b-e2e3-447d-8777-31f8a347e5dc"
      },
      "execution_count": null,
      "outputs": [
        {
          "output_type": "stream",
          "name": "stderr",
          "text": [
            "WARNING:root:This is a warning\n",
            "ERROR:root:This is an error\n",
            "CRITICAL:root:This is critical\n"
          ]
        }
      ]
    },
    {
      "cell_type": "markdown",
      "source": [
        "**22->What is the os module in Python used for in file handling ?**\n",
        "\n",
        "- The os module in Python is used to interact with the operating system, especially for file and directory handling. It provides a way to perform tasks like creating, deleting, renaming, or navigating through files and directories independent of the operating system (Windows, Linux, macOS).\n",
        "\n"
      ],
      "metadata": {
        "id": "a12L7qm03aPe"
      }
    },
    {
      "cell_type": "code",
      "source": [
        "#Navigating Directories\n",
        "import os\n",
        "\n",
        "print(os.getcwd())  # Get current working directory\n",
        "os.chdir('path/to/directory')  # Change current directory\n",
        "\n",
        "#Creating and Deleting Directories\n",
        "import os\n",
        "os.mkdir('new_folder')         # Create a single directory\n",
        "os.makedirs('folder/subfolder')  # Create nested directories\n",
        "os.rmdir('new_folder')         # Remove a directory\n",
        "os.removedirs('folder/subfolder')  # Remove nested dirs\n",
        "\n",
        "\n",
        "# Working with Files\n",
        "\n",
        "os.remove('file.txt')          # Delete a file\n",
        "os.rename('old.txt', 'new.txt')  # Rename/move a file\n",
        "\n",
        "\n",
        "#Checking Existence\n",
        "\n",
        "os.path.exists('file.txt')     # True if file or folder exists\n",
        "os.path.isfile('file.txt')     # True if it's a file\n",
        "os.path.isdir('myfolder')      # True if it's a directory\n",
        "\n",
        "\n",
        "#Listing Files/Directories\n",
        "\n",
        "files = os.listdir('.')        # List all items in current directory\n",
        "\n",
        "#Example: Delete all .txt files in a folder\n",
        "import os\n",
        "\n",
        "for file in os.listdir():\n",
        "    if file.endswith(\".txt\"):\n",
        "        os.remove(file)"
      ],
      "metadata": {
        "id": "m7BJCHds4Uh0"
      },
      "execution_count": null,
      "outputs": []
    },
    {
      "cell_type": "markdown",
      "source": [
        "**23-> What are the challenges associated with memory management in Python?**\n",
        "\n",
        "- Memory management in Python is generally handled automatically via the built-in garbage collector, but it still comes with a few challenges and caveats — especially in large or performance-critical applications.\n",
        "\n",
        "**Challenges Associated with Memory Management in Python**\n",
        "\n",
        "  - **Memory Leaks**\n",
        "  \n",
        "    - Python may accidentally retain references to unused objects, preventing their cleanup.\n",
        "\n",
        "  - **Common causes:**\n",
        "\n",
        "    - Unclosed file handles or database connections.\n",
        "\n",
        "    - Global variables or lingering references in long-running programs.\n",
        "\n",
        "    - Circular references (e.g., object A refers to B and B refers to A).\n",
        "\n",
        "  - **Circular References**\n",
        "     - Python uses reference counting, but if two objects refer to each other, they may not be freed.\n",
        "\n",
        "    - The garbage collector handles this, but it may not always detect or resolve all cases efficiently.\n",
        "\n",
        "  - **High Memory Usage with Large Data**\n",
        "\n",
        "     - Python lists, dictionaries, and objects can use more memory than equivalent data structures in lower-level languages like C or Java.\n",
        "\n",
        "     - Inefficient data handling (e.g., loading a large file all at once) can cause excessive memory consumption.\n",
        "\n",
        "  - **Fragmentation**\n",
        "\n",
        "     - Due to dynamic allocation and deallocation, Python's memory may become fragmented over time, especially in long-running programs.\n",
        "\n",
        "  - **Inefficient Object Allocation**\n",
        "\n",
        "     - Python objects have overhead (e.g., dictionaries use more memory per item).\n",
        "\n",
        "     - Frequent creation and destruction of many small objects can impact performance and memory use.\n",
        "\n",
        "  - **Lack of Manual Control**\n",
        "\n",
        "    - Unlike C/C++, Python does not give direct control over memory allocation and deallocation.\n",
        "\n",
        "    - This can be frustrating when you need fine-tuned performance.\n",
        "\n",
        "  - **Third-party Modules**\n",
        "\n",
        "    - Some C extensions or poorly written libraries can bypass Python's memory management system and cause leaks or instability."
      ],
      "metadata": {
        "id": "C3b2MLVQ6GYS"
      }
    },
    {
      "cell_type": "markdown",
      "source": [
        "**24->  How do you raise an exception manually in Python**\n",
        "\n",
        "- In Python, an exception is raised manually using the raise statement. This allows for explicit error handling and can be used to signal exceptional conditions within a program.\n",
        "\n",
        "**Syntax:**\n",
        "\n",
        "    #raise ExceptionType(\"Optional error message\")"
      ],
      "metadata": {
        "id": "-Xv0KIpZSKsW"
      }
    },
    {
      "cell_type": "code",
      "source": [
        "#Raise a built-in exception\n",
        "age = -5\n",
        "\n",
        "if age < 0:\n",
        "    raise ValueError(\"Age cannot be negative\")\n"
      ],
      "metadata": {
        "collapsed": true,
        "id": "e-xA2ZxCUfNA"
      },
      "execution_count": null,
      "outputs": []
    },
    {
      "cell_type": "code",
      "source": [
        "#Raise a custon exception\n",
        "class MyCustomError(Exception):\n",
        "    pass\n",
        "\n",
        "raise MyCustomError(\"This is a custom exception\")\n"
      ],
      "metadata": {
        "id": "-e26_9NtU5Fr"
      },
      "execution_count": null,
      "outputs": []
    },
    {
      "cell_type": "code",
      "source": [
        "#using raise without argument\n",
        "try:\n",
        "    x = 1 / 0\n",
        "except ZeroDivisionError:\n",
        "    print(\"Caught an exception!\")\n",
        "    raise  # re-raises the same exception\n"
      ],
      "metadata": {
        "id": "6-nkx0tyVFNt"
      },
      "execution_count": null,
      "outputs": []
    },
    {
      "cell_type": "markdown",
      "source": [
        "**25-> Why is it important to use multithreading in certain applications?**\n",
        "\n",
        "- Using multithreading is important in certain applications because it allows a program to perform multiple tasks concurrently, improving responsiveness, efficiency, and resource utilization—especially in programs that involve I/O-bound operations.\n",
        "\n",
        "**Key Reasons for Using Multithreading**\n",
        "\n",
        "  - **Improves Responsiveness**\n",
        "\n",
        "  In GUI applications (like desktop software), multithreading keeps the interface responsive while background tasks (e.g., file downloads, computations) run.\n",
        "\n",
        " Example: You can scroll or click buttons while a file is being loaded in the background.\n",
        "\n",
        "  - **Better Use of I/O Wait Time**\n",
        "\n",
        "    - In I/O-bound tasks (e.g., reading files, network communication), the CPU often sits idle while waiting.\n",
        "\n",
        "    - Multithreading lets other threads run during that waiting time.\n",
        "\n",
        "   Example: A web server can handle thousands of requests because it doesn’t block while waiting for a file or a database response.\n",
        "\n",
        "  - **Simpler Program Structure**\n",
        "\n",
        "    - Threads are often easier to implement than multiple processes when you need shared memory or communication between tasks.\n",
        "\n",
        "  - **Parallelism on Multi-core CPUs (with caution)**\n",
        "\n",
        "    - Python’s Global Interpreter Lock (GIL) limits true parallel execution of Python bytecode, but multithreading still helps in I/O-heavy programs.\n",
        "\n",
        "    - For CPU-bound tasks, Python's multiprocessing module is usually better.\n",
        "\n",
        "  - **Background Tasks**\n",
        "\n",
        "  You can offload repetitive or long-running tasks (e.g., logging, monitoring, data syncing) to background threads so the main thread isn't delayed."
      ],
      "metadata": {
        "id": "-K6NNmjlVonQ"
      }
    },
    {
      "cell_type": "markdown",
      "source": [
        "#**PRACTICAL QUESTIONS**"
      ],
      "metadata": {
        "id": "6wmRIVg8WiDc"
      }
    },
    {
      "cell_type": "code",
      "source": [
        "#1-> How can you open a file for writing in Python and write a string to it?\n",
        "\n",
        "# Open the file in write mode ('w'). If the file doesn't exist, it will be created.\n",
        "# If the file exists, its contents will be truncated (overwritten).\n",
        "with open(\"my_file.txt\", \"w\") as file:\n",
        "    # Write a string to the file\n",
        "    file.write(\"Hello, this is a string written to the file.\\n\")\n",
        "    file.write(\"This is another line of text.\")\n",
        "\n",
        "print(\"String successfully written to 'my_file.txt'\")\n"
      ],
      "metadata": {
        "id": "38cNGg2HWoVl",
        "colab": {
          "base_uri": "https://localhost:8080/"
        },
        "outputId": "aedfa07b-542c-4bf9-f12f-7250a7d7db01"
      },
      "execution_count": null,
      "outputs": [
        {
          "output_type": "stream",
          "name": "stdout",
          "text": [
            "String successfully written to 'my_file.txt'\n"
          ]
        }
      ]
    },
    {
      "cell_type": "code",
      "source": [
        "#2-> Write a Python program to read the contents of a file and print each line?\n",
        "\n",
        "# Program to read and print each line of a file\n",
        "\n",
        "# Replace 'sample.txt' with the path to your file\n",
        "file_path = 'sample.txt'\n",
        "\n",
        "try:\n",
        "    with open(file_path, 'r') as file:\n",
        "        for line in file:\n",
        "            print(line.strip())  # strip() removes leading/trailing whitespace including newline\n",
        "except FileNotFoundError:\n",
        "    print(f\"Error: The file '{file_path}' was not found.\")\n",
        "except Exception as e:\n",
        "    print(f\"An unexpected error occurred: {e}\")\n",
        "\n"
      ],
      "metadata": {
        "colab": {
          "base_uri": "https://localhost:8080/"
        },
        "id": "qay_WYgM6Z74",
        "outputId": "520c04cf-dd09-4842-b6bc-c2005b940855"
      },
      "execution_count": null,
      "outputs": [
        {
          "output_type": "stream",
          "name": "stdout",
          "text": [
            "Error: The file 'sample.txt' was not found.\n"
          ]
        }
      ]
    },
    {
      "cell_type": "code",
      "source": [
        "#3-> How would you handle a case where the file doesn't exist while trying to open it for reading?\n",
        "\n",
        "filename = \"example.txt\"\n",
        "\n",
        "try:\n",
        "    with open(filename, 'r') as file:\n",
        "        for line in file:\n",
        "            print(line.strip())\n",
        "except FileNotFoundError:\n",
        "    print(f\"Error: The file '{filename}' was not found.\")\n"
      ],
      "metadata": {
        "colab": {
          "base_uri": "https://localhost:8080/"
        },
        "id": "B8lxO2qIDV2q",
        "outputId": "a26eb5bd-dab4-411e-92ec-6fed7e30cde2"
      },
      "execution_count": null,
      "outputs": [
        {
          "output_type": "stream",
          "name": "stdout",
          "text": [
            "Error: The file 'example.txt' was not found.\n"
          ]
        }
      ]
    },
    {
      "cell_type": "code",
      "source": [
        "#4->Write a Python script that reads from one file and writes its content to another file?\n",
        "\n",
        "# Source and destination file names\n",
        "source_file = \"source.txt\"\n",
        "destination_file = \"destination.txt\"\n",
        "\n",
        "try:\n",
        "    # Open the source file in read mode\n",
        "    with open(source_file, 'r') as src:\n",
        "        # Read the content\n",
        "        content = src.read()\n",
        "\n",
        "    # Open the destination file in write mode\n",
        "    with open(destination_file, 'w') as dest:\n",
        "        # Write the content to the destination file\n",
        "        dest.write(content)\n",
        "\n",
        "    print(f\"Content copied from '{source_file}' to '{destination_file}' successfully.\")\n",
        "\n",
        "except FileNotFoundError:\n",
        "    print(f\"Error: The file '{source_file}' was not found.\")\n",
        "except Exception as e:\n",
        "    print(f\"An error occurred: {e}\")\n"
      ],
      "metadata": {
        "colab": {
          "base_uri": "https://localhost:8080/"
        },
        "id": "aEBPOnXKDtPg",
        "outputId": "260e4e64-22b1-44d4-b9d8-1de8a2c31cda"
      },
      "execution_count": null,
      "outputs": [
        {
          "output_type": "stream",
          "name": "stdout",
          "text": [
            "Error: The file 'source.txt' was not found.\n"
          ]
        }
      ]
    },
    {
      "cell_type": "code",
      "source": [
        "#5-> How would you catch and handle division by zero error in Python?\n",
        "\n",
        "try:\n",
        "    numerator = int(input(\"Enter numerator: \"))\n",
        "    denominator = int(input(\"Enter denominator: \"))\n",
        "    result = numerator / denominator\n",
        "    print(\"Result:\", result)\n",
        "except ZeroDivisionError:\n",
        "    print(\"Error: Cannot divide by zero.\")\n"
      ],
      "metadata": {
        "colab": {
          "base_uri": "https://localhost:8080/"
        },
        "id": "SJw0EbwiEhny",
        "outputId": "1aa55cfb-3ac9-41f9-fec4-bf7ef589d879"
      },
      "execution_count": null,
      "outputs": [
        {
          "output_type": "stream",
          "name": "stdout",
          "text": [
            "Enter numerator: 10\n",
            "Enter denominator: 2\n",
            "Result: 5.0\n"
          ]
        }
      ]
    },
    {
      "cell_type": "code",
      "source": [
        "#6-> Write a Python program that logs an error message to a log file when a division by zero exception occurs\n",
        "\n",
        "import logging\n",
        "\n",
        "# Configure logging to write to a file\n",
        "logging.basicConfig(\n",
        "    filename='error_log.txt',       # Log file name\n",
        "    level=logging.ERROR,            # Log only errors and above\n",
        "    format='%(asctime)s - %(levelname)s - %(message)s'  # Log format\n",
        ")\n",
        "\n",
        "def divide(a, b):\n",
        "    try:\n",
        "        result = a / b\n",
        "        print(f\"Result: {result}\")\n",
        "    except ZeroDivisionError as e:\n",
        "        logging.error(\"Attempted to divide by zero.\")\n",
        "        print(\"Error: Division by zero is not allowed.\")\n",
        "\n",
        "# Example usage\n",
        "divide(10, 0)"
      ],
      "metadata": {
        "colab": {
          "base_uri": "https://localhost:8080/"
        },
        "id": "6ZPhv70iEy46",
        "outputId": "2cd21ee7-6871-4e56-e533-d56c976eeabc"
      },
      "execution_count": null,
      "outputs": [
        {
          "output_type": "stream",
          "name": "stderr",
          "text": [
            "ERROR:root:Attempted to divide by zero.\n"
          ]
        },
        {
          "output_type": "stream",
          "name": "stdout",
          "text": [
            "Error: Division by zero is not allowed.\n"
          ]
        }
      ]
    },
    {
      "cell_type": "code",
      "source": [
        "#7-> How do you log information at different levels (INFO, ERROR, WARNING) in Python using the logging module?\n",
        "\n",
        "import logging\n",
        "\n",
        "# Configure logging\n",
        "logging.basicConfig(\n",
        "    level=logging.DEBUG,  # Set the lowest level to capture\n",
        "    format='%(asctime)s - %(levelname)s - %(message)s'\n",
        ")\n",
        "\n",
        "# Log messages at different levels\n",
        "logging.debug(\"This is a DEBUG message\")     # Detailed diagnostic info\n",
        "logging.info(\"This is an INFO message\")      # General info\n",
        "logging.warning(\"This is a WARNING message\") # Something unexpected\n",
        "logging.error(\"This is an ERROR message\")    # An error occurred\n",
        "logging.critical(\"This is a CRITICAL message\") # Serious error\n"
      ],
      "metadata": {
        "id": "FkG4TfS-HvlK",
        "colab": {
          "base_uri": "https://localhost:8080/"
        },
        "outputId": "5014c014-94f2-4b78-cd59-98968be1defb"
      },
      "execution_count": null,
      "outputs": [
        {
          "output_type": "stream",
          "name": "stderr",
          "text": [
            "WARNING:root:This is a WARNING message\n",
            "ERROR:root:This is an ERROR message\n",
            "CRITICAL:root:This is a CRITICAL message\n"
          ]
        }
      ]
    },
    {
      "cell_type": "code",
      "source": [
        "#8->Write a program to handle a file opening error using exception handling?\n",
        "\n",
        "try:\n",
        "    # Attempt to open a file that may not exist\n",
        "    file = open(\"non_existent_file.txt\", \"r\")\n",
        "    content = file.read()\n",
        "    print(content)\n",
        "    file.close()\n",
        "\n",
        "except FileNotFoundError:\n",
        "    print(\"Error: The file was not found.\")\n",
        "\n",
        "except IOError:\n",
        "    print(\"Error: An I/O error occurred while opening the file.\")\n",
        "try:\n",
        "    # Attempt to open a file that may not exist\n",
        "    file = open(\"non_existent_file.txt\", \"r\")\n",
        "    content = file.read()\n",
        "    print(content)\n",
        "    file.close()\n",
        "\n",
        "except FileNotFoundError:\n",
        "    print(\"Error: The file was not found.\")\n",
        "\n",
        "except IOError:\n",
        "    print(\"Error: An I/O error occurred while opening the file.\")\n"
      ],
      "metadata": {
        "colab": {
          "base_uri": "https://localhost:8080/"
        },
        "id": "1s2tjwC8YSTt",
        "outputId": "a57aadbe-d122-43dc-f214-1a19be07b4fa"
      },
      "execution_count": null,
      "outputs": [
        {
          "output_type": "stream",
          "name": "stdout",
          "text": [
            "Error: The file was not found.\n",
            "Error: The file was not found.\n"
          ]
        }
      ]
    },
    {
      "cell_type": "code",
      "source": [
        "#9-> How can you read a file line by line and store its content in a list in Python?\n",
        "\n",
        "try:\n",
        "    with open(\"example.txt\", \"r\") as file:\n",
        "        lines = file.readlines()\n",
        "\n",
        "    # Strip newline characters\n",
        "    lines = [line.strip() for line in lines]\n",
        "\n",
        "    print(lines)\n",
        "\n",
        "except FileNotFoundError:\n",
        "    print(\"Error: The file does not exist.\")\n"
      ],
      "metadata": {
        "colab": {
          "base_uri": "https://localhost:8080/"
        },
        "id": "tMawqMjaYtnY",
        "outputId": "c29a5298-b7b1-41db-97aa-f145f58e1442"
      },
      "execution_count": null,
      "outputs": [
        {
          "output_type": "stream",
          "name": "stdout",
          "text": [
            "Error: The file does not exist.\n"
          ]
        }
      ]
    },
    {
      "cell_type": "code",
      "source": [
        "#10-> How can you append data to an existing file in Python ?\n",
        "\n",
        "try:\n",
        "    with open(\"example.txt\", \"a\") as file:\n",
        "        file.write(\"This is a new line of text.\\n\")\n",
        "    print(\"Data appended successfully.\")\n",
        "\n",
        "except IOError:\n",
        "    print(\"An error occurred while appending to the file.\")\n"
      ],
      "metadata": {
        "colab": {
          "base_uri": "https://localhost:8080/"
        },
        "id": "s3v2HPDiY7f8",
        "outputId": "d08fd658-53cb-4275-a2b6-a1bed63b1647"
      },
      "execution_count": null,
      "outputs": [
        {
          "output_type": "stream",
          "name": "stdout",
          "text": [
            "Data appended successfully.\n"
          ]
        }
      ]
    },
    {
      "cell_type": "code",
      "source": [
        "#11-> Write a Python program that uses a try-except block to handle an error when attempting to access a dictionary key that doesn't exist\n",
        "\n",
        "person = {\n",
        "    \"name\": \"Gunj\",\n",
        "    \"age\": 30\n",
        "}\n",
        "\n",
        "try:\n",
        "    # Attempting to access a key that may not exist\n",
        "    print(\"City:\", person[\"city\"])\n",
        "\n",
        "except KeyError:\n",
        "    print(\"Error: The key 'city' does not exist in the dictionary.\")\n",
        "\n"
      ],
      "metadata": {
        "colab": {
          "base_uri": "https://localhost:8080/"
        },
        "id": "1EA97EunZIDp",
        "outputId": "3f22fc3c-08ed-4448-9814-7e385a928d75"
      },
      "execution_count": null,
      "outputs": [
        {
          "output_type": "stream",
          "name": "stdout",
          "text": [
            "Error: The key 'city' does not exist in the dictionary.\n"
          ]
        }
      ]
    },
    {
      "cell_type": "code",
      "source": [
        "#12->Write a program that demonstrates using multiple except blocks to handle different types of exceptions?\n",
        "\n",
        "try:\n",
        "    # Input two numbers\n",
        "    num1 = int(input(\"Enter the first number: \"))\n",
        "    num2 = int(input(\"Enter the second number: \"))\n",
        "\n",
        "    # Perform division\n",
        "    result = num1 / num2\n",
        "\n",
        "    # Access a key in a dictionary\n",
        "    data = {\"name\": \"gunj\"}\n",
        "    print(\"Age:\", data[\"age\"])\n",
        "\n",
        "except ValueError:\n",
        "    print(\"Error: Invalid input! Please enter numeric values.\")\n",
        "\n",
        "except ZeroDivisionError:\n",
        "    print(\"Error: Cannot divide by zero.\")\n",
        "\n",
        "except KeyError:\n",
        "    print(\"Error: The specified key was not found in the dictionary.\")\n",
        "\n",
        "except Exception as e:\n",
        "    print(\"An unexpected error occurred:\", e)\n"
      ],
      "metadata": {
        "colab": {
          "base_uri": "https://localhost:8080/"
        },
        "id": "lfx8ZCb1Zmuc",
        "outputId": "ba2deeae-44da-49cf-a208-f8fc4cd2a552"
      },
      "execution_count": null,
      "outputs": [
        {
          "output_type": "stream",
          "name": "stdout",
          "text": [
            "Enter the first number: 12\n",
            "Enter the second number: 6\n",
            "Error: The specified key was not found in the dictionary.\n"
          ]
        }
      ]
    },
    {
      "cell_type": "code",
      "source": [
        "#13->How would you check if a file exists before attempting to read it in Python?\n",
        "\n",
        "import os\n",
        "\n",
        "file_path = \"example.txt\"\n",
        "\n",
        "if os.path.exists(file_path):\n",
        "    with open(file_path, \"r\") as file:\n",
        "        content = file.read()\n",
        "        print(content)\n",
        "else:\n",
        "    print(\"Error: File does not exist.\")\n"
      ],
      "metadata": {
        "colab": {
          "base_uri": "https://localhost:8080/"
        },
        "id": "Qd_bf6wRaCsg",
        "outputId": "7198c8fe-46f4-4a6b-d2db-3ad1fe66a07d"
      },
      "execution_count": null,
      "outputs": [
        {
          "output_type": "stream",
          "name": "stdout",
          "text": [
            "This is a new line of text.\n",
            "\n"
          ]
        }
      ]
    },
    {
      "cell_type": "code",
      "source": [
        "#14-> Write a program that uses the logging module to log both informational and error messages ?\n",
        "\n",
        "import logging\n",
        "\n",
        "# Configure logging\n",
        "logging.basicConfig(\n",
        "    filename='app.log',              # Log messages will be saved in this file\n",
        "    level=logging.DEBUG,             # Log all levels DEBUG and above\n",
        "    format='%(asctime)s - %(levelname)s - %(message)s'\n",
        ")\n",
        "\n",
        "def divide(a, b):\n",
        "    try:\n",
        "        logging.info(f\"Attempting to divide {a} by {b}\")\n",
        "        result = a / b\n",
        "        logging.info(f\"Result: {result}\")\n",
        "        return result\n",
        "\n",
        "    except ZeroDivisionError as e:\n",
        "        logging.error(\"Division by zero error occurred\")\n",
        "        return None\n",
        "\n",
        "# Example\n",
        "divide(10, 2)   # Logs an INFO message\n",
        "divide(5, 0)    # Logs an ERROR message\n"
      ],
      "metadata": {
        "colab": {
          "base_uri": "https://localhost:8080/"
        },
        "id": "h_O8UEqdaklq",
        "outputId": "a0360ae4-32e6-4c9e-9099-be357717e4a7"
      },
      "execution_count": null,
      "outputs": [
        {
          "output_type": "stream",
          "name": "stderr",
          "text": [
            "ERROR:root:Division by zero error occurred\n"
          ]
        }
      ]
    },
    {
      "cell_type": "code",
      "source": [
        "#15-> Write a Python program that prints the content of a file and handles the case when the file is empty ?\n",
        "\n",
        "def read_file(filename):\n",
        "    try:\n",
        "        with open(filename, 'r') as file:\n",
        "            content = file.read()\n",
        "\n",
        "            if content.strip() == \"\":\n",
        "                print(\"The file is empty.\")\n",
        "            else:\n",
        "                print(\"File content:\")\n",
        "                print(content)\n",
        "\n",
        "    except FileNotFoundError:\n",
        "        print(f\"Error: The file '{filename}' does not exist.\")\n",
        "\n",
        "    except IOError:\n",
        "        print(\"Error: An I/O error occurred while reading the file.\")\n",
        "\n",
        "# Example usage\n",
        "read_file(\"example.txt\")\n"
      ],
      "metadata": {
        "colab": {
          "base_uri": "https://localhost:8080/"
        },
        "id": "xhCHdvsmbKAA",
        "outputId": "078b8ba3-6d10-44ca-b2c2-b0a55c394297"
      },
      "execution_count": null,
      "outputs": [
        {
          "output_type": "stream",
          "name": "stdout",
          "text": [
            "File content:\n",
            "This is a new line of text.\n",
            "\n"
          ]
        }
      ]
    },
    {
      "cell_type": "markdown",
      "source": [
        "**16-> Demonstrate how to use memory profiling to check the memory usage of a small program?**\n",
        "\n",
        "- To demonstrate memory profiling in Python using the memory_profiler library, follow these steps:\n",
        "\n",
        " - Install the library:\n",
        "\n",
        " If you haven't already, install memory_profiler using pip:\n",
        "  \n",
        "\n",
        "    #pip install memory_profiler\n",
        "\n",
        "  - Create a Python script: Create a file (e.g., memory_test.py) with the following content:"
      ],
      "metadata": {
        "id": "y_Wn5us3pzQX"
      }
    },
    {
      "cell_type": "code",
      "source": [
        "    from memory_profiler import profile\n",
        "\n",
        "    @profile\n",
        "    def create_large_list():\n",
        "        \"\"\"\n",
        "        This function creates a large list to demonstrate memory usage.\n",
        "        \"\"\"\n",
        "        data = [i * 100 for i in range(1000000)]  # Create a list of 1 million integers\n",
        "        return data\n",
        "\n",
        "    if __name__ == \"__main__\":\n",
        "        my_list = create_large_list()\n",
        "        print(\"List created successfully.\")"
      ],
      "metadata": {
        "id": "QNsbZrtes4Jj"
      },
      "execution_count": null,
      "outputs": []
    },
    {
      "cell_type": "markdown",
      "source": [
        "In this script:\n",
        "\n",
        "  - The @profile decorator from memory_profiler is applied to the create_large_list function. This decorator instructs the profiler to monitor the memory usage of this specific function line by line.\n",
        "\n",
        "\n",
        "  - Run the script with memory profiling: Execute the script from your terminal using the python -m memory_profiler command:\n",
        "\n",
        "\n",
        "    #python -m memory_profiler memory_test.py"
      ],
      "metadata": {
        "id": "GF8tbx55ugUo"
      }
    },
    {
      "cell_type": "code",
      "source": [
        "#17->Write a Python program to create and write a list of numbers to a file, one number per line?\n",
        "\n",
        "# Define a list of numbers\n",
        "numbers = [10, 20, 30, 40, 50]\n",
        "\n",
        "# Open a file in write mode\n",
        "with open('numbers.txt', 'w') as file:\n",
        "    for number in numbers:\n",
        "        file.write(f\"{number}\\n\")\n",
        "\n",
        "print(\"Numbers written to 'numbers.txt' successfully.\")\n"
      ],
      "metadata": {
        "colab": {
          "base_uri": "https://localhost:8080/"
        },
        "id": "Mkp6tzftvBMr",
        "outputId": "46169910-95f2-403a-b1d1-3ff745d852e8"
      },
      "execution_count": 19,
      "outputs": [
        {
          "output_type": "stream",
          "name": "stdout",
          "text": [
            "Numbers written to 'numbers.txt' successfully.\n"
          ]
        }
      ]
    },
    {
      "cell_type": "code",
      "source": [
        "#18->  How would you implement a basic logging setup that logs to a file with rotation after 1MB?\n",
        "\n",
        "import logging\n",
        "from logging.handlers import RotatingFileHandler\n",
        "\n",
        "# Create a logger\n",
        "logger = logging.getLogger(\"my_logger\")\n",
        "logger.setLevel(logging.DEBUG)\n",
        "\n",
        "# Create a rotating file handler\n",
        "handler = RotatingFileHandler(\n",
        "    \"app.log\",        # Log file name\n",
        "    maxBytes=1_000_000,  # Rotate after 1MB\n",
        "    backupCount=3        # Keep up to 3 old log files\n",
        ")\n",
        "\n",
        "# Create a log format\n",
        "formatter = logging.Formatter('%(asctime)s - %(levelname)s - %(message)s')\n",
        "handler.setFormatter(formatter)\n",
        "\n",
        "# Add handler to the logger\n",
        "logger.addHandler(handler)\n",
        "\n",
        "# Example usage\n",
        "for i in range(10000):\n",
        "    logger.debug(f\"Logging line {i}\")\n"
      ],
      "metadata": {
        "id": "V5jdXgOVvS8v"
      },
      "execution_count": null,
      "outputs": []
    },
    {
      "cell_type": "code",
      "source": [
        "#19-> Write a program that handles both IndexError and KeyError using a try-except block?\n",
        "\n",
        "def handle_errors():\n",
        "    my_list = [10, 20, 30]\n",
        "    my_dict = {'a': 1, 'b': 2}\n",
        "\n",
        "    try:\n",
        "        # Trigger IndexError\n",
        "        print(\"Accessing list element at index 5:\")\n",
        "        print(my_list[5])\n",
        "\n",
        "        # Trigger KeyError\n",
        "        print(\"Accessing dictionary with key 'z':\")\n",
        "        print(my_dict['z'])\n",
        "\n",
        "    except IndexError as ie:\n",
        "        print(f\"IndexError occurred: {ie}\")\n",
        "\n",
        "    except KeyError as ke:\n",
        "        print(f\"KeyError occurred: {ke}\")\n",
        "\n",
        "# Run the function\n",
        "handle_errors()\n"
      ],
      "metadata": {
        "colab": {
          "base_uri": "https://localhost:8080/"
        },
        "id": "uVssQArVvkAY",
        "outputId": "3c66d93b-f577-4177-dfb0-535a7b59fcac"
      },
      "execution_count": 20,
      "outputs": [
        {
          "output_type": "stream",
          "name": "stdout",
          "text": [
            "Accessing list element at index 5:\n",
            "IndexError occurred: list index out of range\n"
          ]
        }
      ]
    },
    {
      "cell_type": "code",
      "source": [
        "#20-> How would you open a file and read its contents using a context manager in Python\n",
        "\n",
        "# Open the file and read its contents\n",
        "with open('example.txt', 'r') as file:\n",
        "    contents = file.read()\n",
        "    print(contents)\n"
      ],
      "metadata": {
        "colab": {
          "base_uri": "https://localhost:8080/"
        },
        "id": "uPseY4iqwKq5",
        "outputId": "c82a51e9-b287-448d-82d9-56d0848bafba"
      },
      "execution_count": 21,
      "outputs": [
        {
          "output_type": "stream",
          "name": "stdout",
          "text": [
            "This is a new line of text.\n",
            "\n"
          ]
        }
      ]
    },
    {
      "cell_type": "code",
      "source": [
        "#21->Write a Python program that reads a file and prints the number of occurrences of a specific word?\n",
        "\n",
        "def count_word_occurrences(filename, target_word):\n",
        "    try:\n",
        "        with open(filename, 'r') as file:\n",
        "            content = file.read()\n",
        "            # Convert both to lowercase for case-insensitive matching\n",
        "            words = content.lower().split()\n",
        "            target = target_word.lower()\n",
        "            count = words.count(target)\n",
        "            print(f\"The word '{target_word}' occurred {count} times in '{filename}'.\")\n",
        "    except FileNotFoundError:\n",
        "        print(f\"Error: The file '{filename}' was not found.\")\n",
        "    except Exception as e:\n",
        "        print(f\"An error occurred: {e}\")\n",
        "\n",
        "# Example usage\n",
        "count_word_occurrences('sample.txt', 'python')\n"
      ],
      "metadata": {
        "colab": {
          "base_uri": "https://localhost:8080/"
        },
        "id": "8nryQeqJ0j79",
        "outputId": "fd6355f9-957d-42b5-c414-38cfc0eee35c"
      },
      "execution_count": 22,
      "outputs": [
        {
          "output_type": "stream",
          "name": "stdout",
          "text": [
            "Error: The file 'sample.txt' was not found.\n"
          ]
        }
      ]
    },
    {
      "cell_type": "code",
      "source": [
        "#22->How can you check if a file is empty before attempting to read its contents\n",
        "\n",
        "import os\n",
        "\n",
        "filename = 'example.txt'\n",
        "\n",
        "if os.path.getsize(filename) == 0:\n",
        "    print(\"The file is empty.\")\n",
        "else:\n",
        "    with open(filename, 'r') as file:\n",
        "        content = file.read()\n",
        "        print(content)\n"
      ],
      "metadata": {
        "colab": {
          "base_uri": "https://localhost:8080/"
        },
        "id": "O-IbS_zH00Y6",
        "outputId": "69a09644-834c-4194-95db-cb1d420ff139"
      },
      "execution_count": 23,
      "outputs": [
        {
          "output_type": "stream",
          "name": "stdout",
          "text": [
            "This is a new line of text.\n",
            "\n"
          ]
        }
      ]
    },
    {
      "cell_type": "code",
      "source": [
        "#23-> Write a Python program that writes to a log file when an error occurs during file handling\n",
        "\n",
        "import logging\n",
        "\n",
        "# Configure logging to write to a file\n",
        "logging.basicConfig(\n",
        "    filename='error_log.txt',\n",
        "    level=logging.ERROR,\n",
        "    format='%(asctime)s - %(levelname)s - %(message)s'\n",
        ")\n",
        "\n",
        "def read_file(filename):\n",
        "    try:\n",
        "        with open(filename, 'r') as file:\n",
        "            content = file.read()\n",
        "            print(content)\n",
        "    except Exception as e:\n",
        "        # Log the error to the log file\n",
        "        logging.error(f\"An error occurred while reading '{filename}': {e}\")\n",
        "        print(f\"An error occurred. Check 'error_log.txt' for details.\")\n",
        "\n",
        "# Example usage\n",
        "read_file('nonexistent_file.txt')\n"
      ],
      "metadata": {
        "colab": {
          "base_uri": "https://localhost:8080/"
        },
        "id": "o1Dg_RDBCQ-j",
        "outputId": "97149fb6-e07f-460e-8b20-ea429baa7900"
      },
      "execution_count": 24,
      "outputs": [
        {
          "output_type": "stream",
          "name": "stderr",
          "text": [
            "ERROR:root:An error occurred while reading 'nonexistent_file.txt': [Errno 2] No such file or directory: 'nonexistent_file.txt'\n"
          ]
        },
        {
          "output_type": "stream",
          "name": "stdout",
          "text": [
            "An error occurred. Check 'error_log.txt' for details.\n"
          ]
        }
      ]
    }
  ]
}